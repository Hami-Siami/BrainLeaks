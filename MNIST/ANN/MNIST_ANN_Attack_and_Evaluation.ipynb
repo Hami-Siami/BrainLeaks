{
  "nbformat": 4,
  "nbformat_minor": 0,
  "metadata": {
    "colab": {
      "provenance": [],
      "gpuType": "T4"
    },
    "kernelspec": {
      "name": "python3",
      "display_name": "Python 3"
    },
    "language_info": {
      "name": "python"
    },
    "accelerator": "GPU"
  },
  "cells": [
    {
      "cell_type": "markdown",
      "source": [
        "# $$Model \\ Inversion \\  Attack - MNIST - ANN - Fredrikson$$\n",
        "\n",
        "---\n",
        "\n"
      ],
      "metadata": {
        "id": "DgxKCl3fb9SM"
      }
    },
    {
      "cell_type": "markdown",
      "source": [
        "# Necessary Imports"
      ],
      "metadata": {
        "id": "MVsVown2b9Vt"
      }
    },
    {
      "cell_type": "code",
      "source": [
        "import torch\n",
        "import torch.nn as nn\n",
        "from torch.utils.data import DataLoader\n",
        "from torchvision import datasets, transforms\n",
        "import numpy as np\n",
        "import matplotlib.pyplot as plt\n",
        "import torch.optim as optim\n",
        "import torchvision.transforms as transforms\n",
        "from torchvision.datasets import ImageFolder\n",
        "from torch.utils.data import Subset\n",
        "import torch.nn.functional as F\n",
        "from tqdm import tqdm\n",
        "import os\n",
        "from PIL import Image\n",
        "import zipfile"
      ],
      "metadata": {
        "id": "nDDb0NYvcVMA"
      },
      "execution_count": 1,
      "outputs": []
    },
    {
      "cell_type": "markdown",
      "source": [
        "**Read Me**\n",
        "\n",
        "You may need to upload the following files through the code for more convenience:\n",
        "\n",
        "- ***MNIST_ANN_Weights_Target*** : The pre-trained parameters for the target model\n",
        "- ***MNIST_ANN_Weights_Eval*** : The pre-trained parameters for the evaluation classifier\n",
        "- ***MNIST_ANN_Inverted*** : All the inverted samples extracted from the target model\n"
      ],
      "metadata": {
        "id": "0qxtSaCT4WJn"
      }
    },
    {
      "cell_type": "markdown",
      "source": [
        "# Data Preparation - MNIST"
      ],
      "metadata": {
        "id": "PFOt2bmJcqOS"
      }
    },
    {
      "cell_type": "code",
      "source": [
        "# Data\n",
        "data_path='/data/mnist'\n",
        "\n",
        "# Define a transform\n",
        "transform = transforms.Compose([\n",
        "            transforms.Grayscale(),\n",
        "            transforms.Resize((28, 28)),\n",
        "            transforms.ToTensor(),\n",
        "            transforms.Normalize((0,), (1,))])\n",
        "\n",
        "mnist_train = datasets.MNIST(data_path, train=True, download=True, transform=transform)\n",
        "mnist_test  = datasets.MNIST(data_path, train=False, download=True, transform=transform)"
      ],
      "metadata": {
        "colab": {
          "base_uri": "https://localhost:8080/"
        },
        "id": "O31WEcyLclAG",
        "outputId": "627fdeb4-d3d7-47e2-d365-c19085fe794d"
      },
      "execution_count": 2,
      "outputs": [
        {
          "output_type": "stream",
          "name": "stdout",
          "text": [
            "Downloading http://yann.lecun.com/exdb/mnist/train-images-idx3-ubyte.gz\n",
            "Downloading http://yann.lecun.com/exdb/mnist/train-images-idx3-ubyte.gz to /data/mnist/MNIST/raw/train-images-idx3-ubyte.gz\n"
          ]
        },
        {
          "output_type": "stream",
          "name": "stderr",
          "text": [
            "100%|██████████| 9912422/9912422 [00:00<00:00, 38070973.56it/s]\n"
          ]
        },
        {
          "output_type": "stream",
          "name": "stdout",
          "text": [
            "Extracting /data/mnist/MNIST/raw/train-images-idx3-ubyte.gz to /data/mnist/MNIST/raw\n",
            "\n",
            "Downloading http://yann.lecun.com/exdb/mnist/train-labels-idx1-ubyte.gz\n",
            "Downloading http://yann.lecun.com/exdb/mnist/train-labels-idx1-ubyte.gz to /data/mnist/MNIST/raw/train-labels-idx1-ubyte.gz\n"
          ]
        },
        {
          "output_type": "stream",
          "name": "stderr",
          "text": [
            "100%|██████████| 28881/28881 [00:00<00:00, 6725650.65it/s]\n"
          ]
        },
        {
          "output_type": "stream",
          "name": "stdout",
          "text": [
            "Extracting /data/mnist/MNIST/raw/train-labels-idx1-ubyte.gz to /data/mnist/MNIST/raw\n",
            "\n",
            "Downloading http://yann.lecun.com/exdb/mnist/t10k-images-idx3-ubyte.gz\n",
            "Downloading http://yann.lecun.com/exdb/mnist/t10k-images-idx3-ubyte.gz to /data/mnist/MNIST/raw/t10k-images-idx3-ubyte.gz\n"
          ]
        },
        {
          "output_type": "stream",
          "name": "stderr",
          "text": [
            "100%|██████████| 1648877/1648877 [00:00<00:00, 51846373.07it/s]"
          ]
        },
        {
          "output_type": "stream",
          "name": "stdout",
          "text": [
            "Extracting /data/mnist/MNIST/raw/t10k-images-idx3-ubyte.gz to /data/mnist/MNIST/raw\n"
          ]
        },
        {
          "output_type": "stream",
          "name": "stderr",
          "text": [
            "\n"
          ]
        },
        {
          "output_type": "stream",
          "name": "stdout",
          "text": [
            "\n",
            "Downloading http://yann.lecun.com/exdb/mnist/t10k-labels-idx1-ubyte.gz\n",
            "Downloading http://yann.lecun.com/exdb/mnist/t10k-labels-idx1-ubyte.gz to /data/mnist/MNIST/raw/t10k-labels-idx1-ubyte.gz\n"
          ]
        },
        {
          "output_type": "stream",
          "name": "stderr",
          "text": [
            "100%|██████████| 4542/4542 [00:00<00:00, 9829994.20it/s]"
          ]
        },
        {
          "output_type": "stream",
          "name": "stdout",
          "text": [
            "Extracting /data/mnist/MNIST/raw/t10k-labels-idx1-ubyte.gz to /data/mnist/MNIST/raw\n",
            "\n"
          ]
        },
        {
          "output_type": "stream",
          "name": "stderr",
          "text": [
            "\n"
          ]
        }
      ]
    },
    {
      "cell_type": "code",
      "source": [
        "train_loader = DataLoader(mnist_train, batch_size=1000, shuffle=True, drop_last=True)\n",
        "test_loader  = DataLoader(mnist_test, batch_size=1000, shuffle=True, drop_last=True)"
      ],
      "metadata": {
        "id": "7tsO6JdntGei"
      },
      "execution_count": 3,
      "outputs": []
    },
    {
      "cell_type": "code",
      "source": [
        "# Show an example of the MNIST data\n",
        "plt.imshow(mnist_train[0][0].squeeze(),cmap='gray')\n",
        "plt.axis('off')\n",
        "plt.show()"
      ],
      "metadata": {
        "id": "Kg-kHrplcW3X",
        "colab": {
          "base_uri": "https://localhost:8080/",
          "height": 406
        },
        "outputId": "d5c6085a-73ca-4e6d-e07a-1b4b566a20dc"
      },
      "execution_count": null,
      "outputs": [
        {
          "output_type": "display_data",
          "data": {
            "text/plain": [
              "<Figure size 640x480 with 1 Axes>"
            ],
            "image/png": "[encoded data removed]"
          },
          "metadata": {}
        }
      ]
    },
    {
      "cell_type": "markdown",
      "source": [
        "# Network Model and Training"
      ],
      "metadata": {
        "id": "gJbQvGxgdH4t"
      }
    },
    {
      "cell_type": "code",
      "source": [
        "# Network Architecture Parameters\n",
        "num_inputs= 28*28\n",
        "num_hidden = 3000\n",
        "num_outputs = 10\n",
        "\n",
        "# Data Type and Device\n",
        "dtype = torch.float\n",
        "device = torch.device(\"cuda\") if torch.cuda.is_available() else torch.device(\"cpu\")"
      ],
      "metadata": {
        "id": "-W73LeSzdErA"
      },
      "execution_count": 4,
      "outputs": []
    },
    {
      "cell_type": "code",
      "source": [
        "# Define Network\n",
        "class MLP_Net(nn.Module):\n",
        "    def __init__(self):\n",
        "        super(MLP_Net, self).__init__()\n",
        "\n",
        "        # Initialize layers\n",
        "        self.fc1 = nn.Linear(num_inputs, num_hidden)\n",
        "        self.fc2 = nn.Linear(num_hidden, num_outputs)\n",
        "\n",
        "    def forward(self, x):\n",
        "\n",
        "        x = x.view(x.size(0), -1)  # Flatten the input\n",
        "        x = torch.sigmoid(self.fc1(x))\n",
        "        x = self.fc2(x)\n",
        "        return x\n",
        "\n",
        "MLP = MLP_Net().to(device)"
      ],
      "metadata": {
        "id": "gu90Evr1dLd2"
      },
      "execution_count": 5,
      "outputs": []
    },
    {
      "cell_type": "markdown",
      "source": [
        "The state dictionary containing the pre-trained model's learned parameters is saved in **'MNIST_ANN_Weights_Target'** and can be loaded by running the following cell."
      ],
      "metadata": {
        "id": "1Yav0T79orVW"
      }
    },
    {
      "cell_type": "code",
      "source": [
        "MLP.load_state_dict(torch.load(\"MNIST_ANN_Weights_Target\",map_location=device))"
      ],
      "metadata": {
        "colab": {
          "base_uri": "https://localhost:8080/"
        },
        "id": "fzK2-9tLdR2u",
        "outputId": "5a32c725-4b8c-45dd-ebce-9b085f50b9a9"
      },
      "execution_count": 35,
      "outputs": [
        {
          "output_type": "execute_result",
          "data": {
            "text/plain": [
              "<All keys matched successfully>"
            ]
          },
          "metadata": {},
          "execution_count": 35
        }
      ]
    },
    {
      "cell_type": "markdown",
      "source": [
        "Following cell contains the training loop. If you have already loaded learned parameters, you don't need to run this cell. (You may run this just for one epoch to check the model and the accuracy)"
      ],
      "metadata": {
        "id": "vFGU5330o8y9"
      }
    },
    {
      "cell_type": "code",
      "source": [
        "# MLP\n",
        "\n",
        "# Define loss function (CrossEntropyLoss) and optimizer (Adam)\n",
        "criterion = nn.CrossEntropyLoss().to(device)\n",
        "optimizer = optim.Adam(MLP.parameters(), lr=1e-3, betas=(0.9, 0.999))\n",
        "\n",
        "\n",
        "\n",
        "# Training loop\n",
        "num_epochs = 50\n",
        "for epoch in range(num_epochs):\n",
        "    MLP.train()\n",
        "    running_loss = 0.0\n",
        "    for inputs, labels in train_loader:\n",
        "        inputs = inputs.to(device)\n",
        "        labels = labels.to(device)\n",
        "        optimizer.zero_grad()\n",
        "        outputs = MLP(inputs)\n",
        "        loss = criterion(outputs, labels)\n",
        "        loss.backward()\n",
        "        optimizer.step()\n",
        "        running_loss += loss.item()\n",
        "    print(f\"Epoch {epoch + 1}/{num_epochs}, Loss: {running_loss / len(train_loader)}\")\n",
        "\n",
        "# Evaluation\n",
        "MLP.eval()\n",
        "correct = 0\n",
        "total = 0\n",
        "with torch.no_grad():\n",
        "    for inputs, labels in test_loader:\n",
        "        inputs = inputs.to(device)\n",
        "        labels = labels.to(device)\n",
        "        outputs = MLP(inputs)\n",
        "        _, predicted = torch.max(outputs.data, 1)\n",
        "        total += labels.size(0)\n",
        "        correct += (predicted == labels).sum().item()\n",
        "\n",
        "accuracy = 100 * correct / total\n",
        "print(f\"Test Accuracy: {accuracy}%\")\n",
        "\n",
        "\n",
        "with torch.no_grad():\n",
        "    for inputs, labels in train_loader:\n",
        "        inputs = inputs.to(device)\n",
        "        labels = labels.to(device)\n",
        "        outputs = MLP(inputs)\n",
        "        _, predicted = torch.max(outputs.data, 1)\n",
        "        total += labels.size(0)\n",
        "        correct += (predicted == labels).sum().item()\n",
        "\n",
        "accuracy = 100 * correct / total\n",
        "print(f\"Train Accuracy: {accuracy}%\")"
      ],
      "metadata": {
        "colab": {
          "base_uri": "https://localhost:8080/"
        },
        "id": "O6PY0VKbdNmK",
        "outputId": "113988b0-d7e7-403e-a9e4-891473689327"
      },
      "execution_count": 6,
      "outputs": [
        {
          "output_type": "stream",
          "name": "stdout",
          "text": [
            "Epoch 1/50, Loss: 0.9755436499913533\n",
            "Epoch 2/50, Loss: 0.37500459849834444\n",
            "Epoch 3/50, Loss: 0.30997543086608254\n",
            "Epoch 4/50, Loss: 0.28170235902071\n",
            "Epoch 5/50, Loss: 0.2651555525759856\n",
            "Epoch 6/50, Loss: 0.24959197839101155\n",
            "Epoch 7/50, Loss: 0.23224643195668856\n",
            "Epoch 8/50, Loss: 0.2173206460972627\n",
            "Epoch 9/50, Loss: 0.20254311511913936\n",
            "Epoch 10/50, Loss: 0.1890535570681095\n",
            "Epoch 11/50, Loss: 0.17784983466068904\n",
            "Epoch 12/50, Loss: 0.1625026799738407\n",
            "Epoch 13/50, Loss: 0.1519871080915133\n",
            "Epoch 14/50, Loss: 0.14138248078525067\n",
            "Epoch 15/50, Loss: 0.1313922411451737\n",
            "Epoch 16/50, Loss: 0.12250136025249958\n",
            "Epoch 17/50, Loss: 0.1143123476455609\n",
            "Epoch 18/50, Loss: 0.10820859546462695\n",
            "Epoch 19/50, Loss: 0.10155259805421034\n",
            "Epoch 20/50, Loss: 0.09351713694632054\n",
            "Epoch 21/50, Loss: 0.08891147468239069\n",
            "Epoch 22/50, Loss: 0.08253560401499271\n",
            "Epoch 23/50, Loss: 0.07726673992971579\n",
            "Epoch 24/50, Loss: 0.07288465710977714\n",
            "Epoch 25/50, Loss: 0.06861808784306049\n",
            "Epoch 26/50, Loss: 0.06479376802841823\n",
            "Epoch 27/50, Loss: 0.05919544013837973\n",
            "Epoch 28/50, Loss: 0.05593774983038505\n",
            "Epoch 29/50, Loss: 0.05306152409563462\n",
            "Epoch 30/50, Loss: 0.049341180454939605\n",
            "Epoch 31/50, Loss: 0.045453320071101186\n",
            "Epoch 32/50, Loss: 0.04367187563329935\n",
            "Epoch 33/50, Loss: 0.041108496487140656\n",
            "Epoch 34/50, Loss: 0.03815732765942812\n",
            "Epoch 35/50, Loss: 0.03572229801987608\n",
            "Epoch 36/50, Loss: 0.03369603206713994\n",
            "Epoch 37/50, Loss: 0.03142220092316469\n",
            "Epoch 38/50, Loss: 0.029961756337434052\n",
            "Epoch 39/50, Loss: 0.02717381507779161\n",
            "Epoch 40/50, Loss: 0.02557658633838097\n",
            "Epoch 41/50, Loss: 0.02433886577685674\n",
            "Epoch 42/50, Loss: 0.022762280780201156\n",
            "Epoch 43/50, Loss: 0.021989404829218982\n",
            "Epoch 44/50, Loss: 0.01981817898340523\n",
            "Epoch 45/50, Loss: 0.018416102308159075\n",
            "Epoch 46/50, Loss: 0.017321120078365008\n",
            "Epoch 47/50, Loss: 0.016637204385673007\n",
            "Epoch 48/50, Loss: 0.01492762278454999\n",
            "Epoch 49/50, Loss: 0.013936228848372896\n",
            "Epoch 50/50, Loss: 0.013214770782118043\n",
            "Test Accuracy: 97.96%\n",
            "Train Accuracy: 99.6%\n"
          ]
        }
      ]
    },
    {
      "cell_type": "code",
      "source": [
        "# torch.save(MLP.state_dict(),\"MNIST_ANN_Weights_Target\")"
      ],
      "metadata": {
        "id": "qUZ97WNNdipG"
      },
      "execution_count": 7,
      "outputs": []
    },
    {
      "cell_type": "markdown",
      "source": [
        "# MI Attack"
      ],
      "metadata": {
        "id": "6dpgtHvBx5J0"
      }
    },
    {
      "cell_type": "markdown",
      "source": [
        "Reconstruction of one target classe:"
      ],
      "metadata": {
        "id": "dB2EfcM5qK1l"
      }
    },
    {
      "cell_type": "code",
      "source": [
        "# Initialize some variables\n",
        "target = int(input('Target Class:')) # Specify your target class\n",
        "MLP.to('cpu')\n",
        "ini = torch.zeros((1, 28*28))  # Initialize ini with starting value\n",
        "\n",
        "beta = 100  # Set the value of beta (the number of consecutive iterations without improvement)\n",
        "consecutive_no_improvement = 0\n",
        "gamma = 0.01  # Set the threshold value gamma\n",
        "current_cost = float('inf')  # Initialize with positive infinity\n",
        "\n",
        "for i in tqdm(range(5000)):\n",
        "    ini.requires_grad_()\n",
        "\n",
        "    cost = 1 - F.softmax(MLP(ini), dim=1)[0][target]\n",
        "\n",
        "    # Compute the gradient\n",
        "    cost.backward()\n",
        "\n",
        "    with torch.no_grad():\n",
        "        ini -= 0.1 * ini.grad\n",
        "        ini = torch.clamp(ini,0,1)\n",
        "\n",
        "    # Check if cost has not improved for beta iterations\n",
        "    if cost >= current_cost:\n",
        "        consecutive_no_improvement += 1\n",
        "    else:\n",
        "        consecutive_no_improvement = 0\n",
        "\n",
        "    if consecutive_no_improvement >= beta:\n",
        "        print(\"Terminating due to no improvement for in iteration: \", i)\n",
        "        break\n",
        "\n",
        "    # Check if cost is below the threshold gamma\n",
        "    if cost <= gamma:\n",
        "        print(\"Terminating due to cost below threshold in iteration: \", i)\n",
        "        break\n",
        "\n",
        "    # Update the current_cost\n",
        "    current_cost = cost\n",
        "\n",
        "print(\"\\n Confidence Score: \",F.softmax(MLP(ini), dim=1)[0][target].item())\n",
        "\n",
        "\n",
        "plt.imshow(ini.view(28, 28).detach(), cmap='gray')\n",
        "plt.title(f'Reconstruction of digit {target}')\n",
        "plt.axis('off')\n",
        "\n",
        "\n",
        "plt.show()\n",
        "\n"
      ],
      "metadata": {
        "colab": {
          "base_uri": "https://localhost:8080/",
          "height": 515
        },
        "id": "1xXGPz8O6IW8",
        "outputId": "43ff34ad-d4ce-4feb-d8a1-d5c3b2227b7e"
      },
      "execution_count": null,
      "outputs": [
        {
          "name": "stdout",
          "output_type": "stream",
          "text": [
            "Target Class:3\n"
          ]
        },
        {
          "output_type": "stream",
          "name": "stderr",
          "text": [
            "  2%|▏         | 96/5000 [00:00<00:30, 161.05it/s]\n"
          ]
        },
        {
          "output_type": "stream",
          "name": "stdout",
          "text": [
            "Terminating due to cost below threshold in iteration:  96\n",
            "\n",
            " Confidence Score:  0.9905401468276978\n"
          ]
        },
        {
          "output_type": "display_data",
          "data": {
            "text/plain": [
              "<Figure size 640x480 with 1 Axes>"
            ],
            "image/png": "[encoded data removed]"
          },
          "metadata": {}
        }
      ]
    },
    {
      "cell_type": "markdown",
      "source": [
        "Reconstruction of all classes:"
      ],
      "metadata": {
        "id": "EMGFQo7wqN83"
      }
    },
    {
      "cell_type": "markdown",
      "source": [
        "**NOTE:** The inverted samples are stored in **\"MNIST_ANN_Inverted\"** and can be loaded by uncommenting the following command. Alternatively, they can be regenerated by running the next cell."
      ],
      "metadata": {
        "id": "91lEclcg1PRp"
      }
    },
    {
      "cell_type": "code",
      "source": [
        "# ini_tensors_MLP = torch.load('MNIST_ANN_Inverted',map_location=device)"
      ],
      "metadata": {
        "id": "Up5V-U551Y78"
      },
      "execution_count": 36,
      "outputs": []
    },
    {
      "cell_type": "code",
      "source": [
        "## FOR MLP\n",
        "\n",
        "MLP.to('cpu')\n",
        "\n",
        "ini_list = []  # List to save 'ini' tensors\n",
        "cost_list = []  # List to save cost values\n",
        "\n",
        "\n",
        "for target in range(10):\n",
        "\n",
        "\n",
        "  ini = torch.zeros((1, 28*28))  # Initialize ini with starting value\n",
        "  beta = 100  # Set the value of beta (the number of consecutive iterations without improvement)\n",
        "  consecutive_no_improvement = 0\n",
        "  gamma = 0.01  # Set the threshold value gamma\n",
        "  current_cost = float('inf')  # Initialize with positive infinity\n",
        "\n",
        "  for i in tqdm(range(5000)):\n",
        "      ini.requires_grad_()\n",
        "\n",
        "      cost = 1 - F.softmax(MLP(ini), dim=1)[0][target]\n",
        "\n",
        "      # Compute the gradient\n",
        "      cost.backward()\n",
        "\n",
        "      with torch.no_grad():\n",
        "          ini -= 0.1 * ini.grad\n",
        "          ini = torch.clamp(ini,0,1)\n",
        "\n",
        "      # Check if cost has not improved for beta iterations\n",
        "      if cost >= current_cost:\n",
        "          consecutive_no_improvement += 1\n",
        "      else:\n",
        "          consecutive_no_improvement = 0\n",
        "\n",
        "      if consecutive_no_improvement >= beta:\n",
        "          print(\"Terminating due to no improvement for in iteration: \", i)\n",
        "          break\n",
        "\n",
        "      # Check if cost is below the threshold gamma\n",
        "      if cost <= gamma:\n",
        "          print(\"Terminating due to cost below threshold in iteration: \", i)\n",
        "          break\n",
        "\n",
        "      # Update the current_cost\n",
        "      current_cost = cost\n",
        "\n",
        "\n",
        "  # Save 'ini' tensor and cost value for this target\n",
        "  ini_list.append(ini.detach().numpy())  # Convert to NumPy for saving\n",
        "  cost_list.append(F.softmax(MLP(ini), dim=1)[0][target].item())\n",
        "  print(cost)\n",
        "\n",
        "# Convert the lists to tensors\n",
        "ini_tensors_MLP = torch.tensor(ini_list)\n",
        "cost_tensors_MLP = torch.tensor(cost_list)"
      ],
      "metadata": {
        "colab": {
          "base_uri": "https://localhost:8080/"
        },
        "id": "z0hS8bj8-3Wz",
        "outputId": "6f0fecd8-87b0-413b-eeeb-fa8bb74cb2a0"
      },
      "execution_count": 49,
      "outputs": [
        {
          "output_type": "stream",
          "name": "stderr",
          "text": [
            " 18%|█▊        | 891/5000 [00:07<00:36, 113.06it/s]\n"
          ]
        },
        {
          "output_type": "stream",
          "name": "stdout",
          "text": [
            "Terminating due to cost below threshold in iteration:  891\n",
            "tensor(0.0099, grad_fn=<RsubBackward1>)\n"
          ]
        },
        {
          "output_type": "stream",
          "name": "stderr",
          "text": [
            "  1%|          | 58/5000 [00:00<00:32, 151.61it/s]\n"
          ]
        },
        {
          "output_type": "stream",
          "name": "stdout",
          "text": [
            "Terminating due to cost below threshold in iteration:  58\n",
            "tensor(0.0098, grad_fn=<RsubBackward1>)\n"
          ]
        },
        {
          "output_type": "stream",
          "name": "stderr",
          "text": [
            "  0%|          | 25/5000 [00:00<00:33, 147.28it/s]\n"
          ]
        },
        {
          "output_type": "stream",
          "name": "stdout",
          "text": [
            "Terminating due to cost below threshold in iteration:  25\n",
            "tensor(0.0094, grad_fn=<RsubBackward1>)\n"
          ]
        },
        {
          "output_type": "stream",
          "name": "stderr",
          "text": [
            "  2%|▏         | 96/5000 [00:00<00:33, 147.23it/s]\n"
          ]
        },
        {
          "output_type": "stream",
          "name": "stdout",
          "text": [
            "Terminating due to cost below threshold in iteration:  96\n",
            "tensor(0.0098, grad_fn=<RsubBackward1>)\n"
          ]
        },
        {
          "output_type": "stream",
          "name": "stderr",
          "text": [
            "  2%|▏         | 79/5000 [00:00<00:31, 156.87it/s]\n"
          ]
        },
        {
          "output_type": "stream",
          "name": "stdout",
          "text": [
            "Terminating due to cost below threshold in iteration:  79\n",
            "tensor(0.0098, grad_fn=<RsubBackward1>)\n"
          ]
        },
        {
          "output_type": "stream",
          "name": "stderr",
          "text": [
            "  0%|          | 14/5000 [00:00<00:24, 205.92it/s]\n"
          ]
        },
        {
          "output_type": "stream",
          "name": "stdout",
          "text": [
            "Terminating due to cost below threshold in iteration:  14\n",
            "tensor(0.0096, grad_fn=<RsubBackward1>)\n"
          ]
        },
        {
          "output_type": "stream",
          "name": "stderr",
          "text": [
            "  1%|          | 52/5000 [00:00<00:25, 197.82it/s]\n"
          ]
        },
        {
          "output_type": "stream",
          "name": "stdout",
          "text": [
            "Terminating due to cost below threshold in iteration:  52\n",
            "tensor(0.0098, grad_fn=<RsubBackward1>)\n"
          ]
        },
        {
          "output_type": "stream",
          "name": "stderr",
          "text": [
            "  0%|          | 16/5000 [00:00<00:26, 185.27it/s]\n"
          ]
        },
        {
          "output_type": "stream",
          "name": "stdout",
          "text": [
            "Terminating due to cost below threshold in iteration:  16\n",
            "tensor(0.0096, grad_fn=<RsubBackward1>)\n"
          ]
        },
        {
          "output_type": "stream",
          "name": "stderr",
          "text": [
            " 58%|█████▊    | 2893/5000 [00:18<00:13, 156.86it/s]\n"
          ]
        },
        {
          "output_type": "stream",
          "name": "stdout",
          "text": [
            "Terminating due to cost below threshold in iteration:  2893\n",
            "tensor(0.0100, grad_fn=<RsubBackward1>)\n"
          ]
        },
        {
          "output_type": "stream",
          "name": "stderr",
          "text": [
            "  1%|▏         | 64/5000 [00:00<00:27, 180.77it/s]"
          ]
        },
        {
          "output_type": "stream",
          "name": "stdout",
          "text": [
            "Terminating due to cost below threshold in iteration:  64\n",
            "tensor(0.0100, grad_fn=<RsubBackward1>)\n"
          ]
        },
        {
          "output_type": "stream",
          "name": "stderr",
          "text": [
            "\n"
          ]
        }
      ]
    },
    {
      "cell_type": "code",
      "source": [
        "# torch.save(ini_tensors_MLP,'MNIST_ANN_Inverted')"
      ],
      "metadata": {
        "id": "PUxV5fqNAzay"
      },
      "execution_count": 9,
      "outputs": []
    },
    {
      "cell_type": "markdown",
      "source": [
        "# Attack Evaluation"
      ],
      "metadata": {
        "id": "tIvaUcv6BX-f"
      }
    },
    {
      "cell_type": "markdown",
      "source": [
        "## Visual Inspection"
      ],
      "metadata": {
        "id": "Vm8luNvOmc4U"
      }
    },
    {
      "cell_type": "markdown",
      "source": [
        "The inverted samples are stored in **\"MNIST_ANN_Inverted\"** and will be loaded at the first line (commented) of the following cell. Alternatively, they can be regenerated by running the previos section."
      ],
      "metadata": {
        "id": "fyS4x7Oi1MVG"
      }
    },
    {
      "cell_type": "code",
      "source": [
        "# ini_tensors_MLP = torch.load('MNIST_ANN_Inverted',map_location=device)  # Uncomment this line to load the inverted samples\n",
        "\n",
        "# Reshape the tensor to [10, 28, 28] assuming the images are 28x28 pixels\n",
        "ini_tensors_reshaped = ini_tensors_MLP.view(10, 28, 28).cpu().numpy()\n",
        "\n",
        "# Create a grid for plotting\n",
        "fig, axes = plt.subplots(2, 5, figsize=(15, 6))  # 2 rows and 5 columns for 10 images\n",
        "\n",
        "# Plot each image in the grid\n",
        "for i in range(10):\n",
        "    row, col = divmod(i, 5)  # Calculate the row and column index\n",
        "    ax = axes[row, col]\n",
        "    ax.imshow(ini_tensors_reshaped[i], cmap='gray')  # Assuming grayscale images\n",
        "    ax.axis('off')  # Turn off axis labels\n",
        "    ax.set_title(f'Digit {i}')\n",
        "\n",
        "# Adjust layout for better appearance\n",
        "plt.tight_layout()\n",
        "\n",
        "# Show the grid figure\n",
        "plt.show()"
      ],
      "metadata": {
        "colab": {
          "base_uri": "https://localhost:8080/",
          "height": 573
        },
        "id": "QkziKS_kmz94",
        "outputId": "5c5310a1-8d9d-41ab-9827-34643f076933"
      },
      "execution_count": 50,
      "outputs": [
        {
          "output_type": "display_data",
          "data": {
            "text/plain": [
              "<Figure size 1500x600 with 10 Axes>"
            ],
            "image/png": "[encoded data removed]"
          },
          "metadata": {}
        }
      ]
    },
    {
      "cell_type": "markdown",
      "source": [
        "## Evaluation Classifier"
      ],
      "metadata": {
        "id": "W6NIQbbZCVkO"
      }
    },
    {
      "cell_type": "code",
      "source": [
        "# Define Network\n",
        "class Eval_Net(nn.Module):\n",
        "    def __init__(self):\n",
        "        super(Eval_Net, self).__init__()\n",
        "\n",
        "        # Convolutional layers\n",
        "        self.conv1 = nn.Conv2d(in_channels=1, out_channels=12, kernel_size=5)  # 1 input channel (assuming grayscale image)\n",
        "        self.pool = nn.MaxPool2d(kernel_size=2, stride=2)  # Max pooling layer\n",
        "        self.conv2 = nn.Conv2d(in_channels=12, out_channels=24, kernel_size=5)  # 12 input channels from previous layer\n",
        "\n",
        "        # Fully connected layers\n",
        "        self.fc1 = nn.Linear(24 * 4 * 4, 10)  # 24 channels, 4x4 image dimension after pooling\n",
        "        self.relu = nn.ReLU()  # ReLU activation function\n",
        "\n",
        "    def forward(self, x):\n",
        "        # Apply convolutional and pooling layers\n",
        "        x = self.pool(self.relu(self.conv1(x)))\n",
        "        x = self.pool(self.relu(self.conv2(x)))\n",
        "\n",
        "        # Flatten the output for dense layers\n",
        "        x = x.view(-1, 24 * 4 * 4)  # Flatten to 1D (24 channels, 4x4 image dimension after pooling)\n",
        "\n",
        "        # Fully connected layers\n",
        "        x = self.fc1(x)\n",
        "\n",
        "        return x\n",
        "\n",
        "eval_net = Eval_Net().to(device)\n",
        "eval_net.parameters"
      ],
      "metadata": {
        "colab": {
          "base_uri": "https://localhost:8080/"
        },
        "id": "k2a_avpb4H3G",
        "outputId": "a1091a7f-8bb9-45e1-f13a-323b6e6f4008"
      },
      "execution_count": 39,
      "outputs": [
        {
          "output_type": "execute_result",
          "data": {
            "text/plain": [
              "<bound method Module.parameters of Eval_Net(\n",
              "  (conv1): Conv2d(1, 12, kernel_size=(5, 5), stride=(1, 1))\n",
              "  (pool): MaxPool2d(kernel_size=2, stride=2, padding=0, dilation=1, ceil_mode=False)\n",
              "  (conv2): Conv2d(12, 24, kernel_size=(5, 5), stride=(1, 1))\n",
              "  (fc1): Linear(in_features=384, out_features=10, bias=True)\n",
              "  (relu): ReLU()\n",
              ")>"
            ]
          },
          "metadata": {},
          "execution_count": 39
        }
      ]
    },
    {
      "cell_type": "markdown",
      "source": [
        "The state dictionary containing the pre-trained model's learned parameters is saved in **'MNIST_ANN_Weights_Eval'** and can be loaded by running the following cell."
      ],
      "metadata": {
        "id": "yFhNoi6Doupx"
      }
    },
    {
      "cell_type": "code",
      "source": [
        "eval_net.load_state_dict(torch.load(\"MNIST_ANN_Weights_Eval\",map_location=device))"
      ],
      "metadata": {
        "colab": {
          "base_uri": "https://localhost:8080/"
        },
        "id": "VUkPw4dTCKnz",
        "outputId": "b864c213-0c6a-4f1e-fc9e-b738a0747b80"
      },
      "execution_count": 66,
      "outputs": [
        {
          "output_type": "execute_result",
          "data": {
            "text/plain": [
              "<All keys matched successfully>"
            ]
          },
          "metadata": {},
          "execution_count": 66
        }
      ]
    },
    {
      "cell_type": "markdown",
      "source": [
        "Following cell contains the training loop. If you have already loaded learned parameters, you don't need to run this cell. (You may run it for just one epoch to check the model and its accuracy)"
      ],
      "metadata": {
        "id": "PRx3EcMqo-RU"
      }
    },
    {
      "cell_type": "code",
      "source": [
        "# Define loss function (e.g., CrossEntropyLoss) and optimizer (e.g., Adam)\n",
        "criterion = nn.CrossEntropyLoss().to(device)\n",
        "optimizer = optim.Adam(eval_net.parameters(), lr=0.001)\n",
        "\n",
        "\n",
        "\n",
        "# Training loop\n",
        "num_epochs = 20\n",
        "for epoch in range(num_epochs):\n",
        "    eval_net.train()\n",
        "    running_loss = 0.0\n",
        "    for inputs, labels in train_loader:\n",
        "        inputs = inputs.to(device)\n",
        "        labels = labels.to(device)\n",
        "        optimizer.zero_grad()\n",
        "        outputs = eval_net(inputs)\n",
        "        loss = criterion(outputs, labels)\n",
        "        loss.backward()\n",
        "        optimizer.step()\n",
        "        running_loss += loss.item()\n",
        "    print(f\"Epoch {epoch + 1}/{num_epochs}, Loss: {running_loss / len(train_loader)}\")\n",
        "\n",
        "# Evaluation\n",
        "eval_net.eval()\n",
        "correct = 0\n",
        "total = 0\n",
        "with torch.no_grad():\n",
        "    for inputs, labels in test_loader:\n",
        "        inputs = inputs.to(device)\n",
        "        labels = labels.to(device)\n",
        "        outputs = eval_net(inputs)\n",
        "        _, predicted = torch.max(outputs.data, 1)\n",
        "        total += labels.size(0)\n",
        "        correct += (predicted == labels).sum().item()\n",
        "\n",
        "accuracy = 100 * correct / total\n",
        "print(f\"Test Accuracy: {accuracy}%\")\n",
        "\n",
        "\n",
        "with torch.no_grad():\n",
        "    for inputs, labels in train_loader:\n",
        "        inputs = inputs.to(device)\n",
        "        labels = labels.to(device)\n",
        "        outputs = eval_net(inputs)\n",
        "        _, predicted = torch.max(outputs.data, 1)\n",
        "        total += labels.size(0)\n",
        "        correct += (predicted == labels).sum().item()\n",
        "\n",
        "accuracy = 100 * correct / total\n",
        "print(f\"Train Accuracy: {accuracy}%\")"
      ],
      "metadata": {
        "colab": {
          "base_uri": "https://localhost:8080/"
        },
        "id": "XM7UGCTGCGTi",
        "outputId": "13c63cd2-a947-4a63-dca1-471ef0f5991a"
      },
      "execution_count": 12,
      "outputs": [
        {
          "output_type": "stream",
          "name": "stdout",
          "text": [
            "Epoch 1/20, Loss: 1.1504535734653474\n",
            "Epoch 2/20, Loss: 0.265422622859478\n",
            "Epoch 3/20, Loss: 0.17433028072118759\n",
            "Epoch 4/20, Loss: 0.1355358040581147\n",
            "Epoch 5/20, Loss: 0.11415538378059864\n",
            "Epoch 6/20, Loss: 0.096922944051524\n",
            "Epoch 7/20, Loss: 0.08649809987594684\n",
            "Epoch 8/20, Loss: 0.07808952561269204\n",
            "Epoch 9/20, Loss: 0.0731060590595007\n",
            "Epoch 10/20, Loss: 0.06690757603694995\n",
            "Epoch 11/20, Loss: 0.0631442998846372\n",
            "Epoch 12/20, Loss: 0.05918297814205289\n",
            "Epoch 13/20, Loss: 0.05520040479799112\n",
            "Epoch 14/20, Loss: 0.052866080620636545\n",
            "Epoch 15/20, Loss: 0.05266558409978946\n",
            "Epoch 16/20, Loss: 0.04938524089132746\n",
            "Epoch 17/20, Loss: 0.045729633700102565\n",
            "Epoch 18/20, Loss: 0.04349327820042769\n",
            "Epoch 19/20, Loss: 0.04220242587228616\n",
            "Epoch 20/20, Loss: 0.04071963503956795\n",
            "Test Accuracy: 98.69%\n",
            "Train Accuracy: 98.85428571428571%\n"
          ]
        }
      ]
    },
    {
      "cell_type": "code",
      "source": [
        "# torch.save(eval_net.state_dict(),'MNIST_ANN_Weights_Eval')"
      ],
      "metadata": {
        "id": "jPXVLCscCOqi"
      },
      "execution_count": null,
      "outputs": []
    },
    {
      "cell_type": "markdown",
      "source": [
        "Here we define two useful functions for future use:"
      ],
      "metadata": {
        "id": "H7Lau7fBcqPM"
      }
    },
    {
      "cell_type": "code",
      "source": [
        "# Function for calculating the accuracy and top-3 accuracy\n",
        "def count_correct(lst):\n",
        "    first = 0\n",
        "    top_3 = 0\n",
        "\n",
        "    for num in lst:\n",
        "        # Count the number of occurrences of digit 1\n",
        "        if num == 1:\n",
        "          first += 1\n",
        "\n",
        "        # Count the number of values between 2 and 3 (inclusive)\n",
        "        if 2 <= num <= 3:\n",
        "            top_3 += 1\n",
        "\n",
        "    return first, top_3+first\n",
        "\n",
        "# Function to scale a tensor values between 0 and 1\n",
        "def Scale(x):\n",
        "  return (x - x.min())/(x.max()-x.min())"
      ],
      "metadata": {
        "id": "bT3YAQVwWEp8"
      },
      "execution_count": 13,
      "outputs": []
    },
    {
      "cell_type": "markdown",
      "source": [
        "The inverted samples are stored in **\"MNIST_ANN_Inverted\"** and will be loaded at the first line of the following cell. Alternatively, they can be regenerated by running the inversion attack section."
      ],
      "metadata": {
        "id": "TqL9agMm3O1n"
      }
    },
    {
      "cell_type": "code",
      "source": [
        "ini_tensors_MLP = torch.load(\"MNIST_ANN_Inverted\").view(10,1,28,28).to(device)\n",
        "MLP.to(device) # Better safe than sorry!"
      ],
      "metadata": {
        "colab": {
          "base_uri": "https://localhost:8080/"
        },
        "id": "sPprIazvFFYC",
        "outputId": "13d0f8f4-6dd7-45ae-d1cd-e7432bbb46fd"
      },
      "execution_count": 45,
      "outputs": [
        {
          "output_type": "execute_result",
          "data": {
            "text/plain": [
              "MLP_Net(\n",
              "  (fc1): Linear(in_features=784, out_features=3000, bias=True)\n",
              "  (fc2): Linear(in_features=3000, out_features=10, bias=True)\n",
              ")"
            ]
          },
          "metadata": {},
          "execution_count": 45
        }
      ]
    },
    {
      "cell_type": "code",
      "source": [
        "# Scale the inputs\n",
        "scaled_input = torch.zeros(10,1,28,28).to(device)\n",
        "for i in range(10):\n",
        "  scaled_input[i] = Scale(ini_tensors_MLP.view(10,1,28,28).to(device)[i])\n",
        "\n",
        "conf_mat = F.softmax(eval_net(scaled_input),dim=1).detach() # Confidence Matrix\n",
        "rank_mat = torch.argsort(conf_mat,descending=True) # Ranking Matrix\n",
        "conf_ranks=[]\n",
        "\n",
        "\n",
        "for i in range(10):\n",
        "   conf_ranks.append(torch.where(rank_mat[i]==i)[0].item()+1)\n",
        "\n",
        "DAA_ranks = conf_mat.argmax(0) # Out of all inverted samples, which one is the most similar to digit X\n",
        "\n",
        "print(\"\\n ** Predicted Labels  :\\n\\n\",conf_mat.max(1)[1])\n",
        "print(\"\\n\\n ** Predicted Labels Confidence  :\\n\\n\",conf_mat.max(1)[0])\n",
        "\n",
        "print(\"\\n\\n\\n ** Ground Truth Ranks in Prediction  :\\n\\n\",conf_ranks)\n",
        "print(\"\\n\\n\\n ** Number of corrects (First,Top-3)  :\\n\\n\",count_correct(conf_ranks))\n",
        "\n",
        "print(\"\\n\\n ** Confidences of the correct outputs  :\\n\\n\",torch.diag(conf_mat))\n",
        "\n",
        "print(\"\\n\\n ** DAA Ranks  :\\n\\n\",DAA_ranks) # Out of all inverted samples, which one is the most similar to digit X"
      ],
      "metadata": {
        "colab": {
          "base_uri": "https://localhost:8080/"
        },
        "id": "W9gpLxHfrh0W",
        "outputId": "73749b21-db3d-4dbb-dfaf-cce29a1d2d1a"
      },
      "execution_count": 67,
      "outputs": [
        {
          "output_type": "stream",
          "name": "stdout",
          "text": [
            "\n",
            " ** Predicted Labels  :\n",
            "\n",
            " tensor([0, 1, 2, 2, 2, 5, 2, 0, 8, 3], device='cuda:0')\n",
            "\n",
            "\n",
            " ** Predicted Labels Confidence  :\n",
            "\n",
            " tensor([0.7918, 0.3757, 0.7920, 0.4985, 0.4444, 0.8069, 0.7304, 0.2939, 0.6905,\n",
            "        0.3067], device='cuda:0')\n",
            "\n",
            "\n",
            "\n",
            " ** Ground Truth Ranks in Prediction  :\n",
            "\n",
            " [1, 1, 1, 2, 2, 1, 2, 5, 1, 3]\n",
            "\n",
            "\n",
            "\n",
            " ** Number of corrects (First,Top-3)  :\n",
            "\n",
            " (5, 9)\n",
            "\n",
            "\n",
            " ** Confidences of the correct outputs  :\n",
            "\n",
            " tensor([0.7918, 0.3757, 0.7920, 0.3518, 0.3787, 0.8069, 0.1077, 0.1023, 0.6905,\n",
            "        0.1403], device='cuda:0')\n",
            "\n",
            "\n",
            " ** DAA Ranks  :\n",
            "\n",
            " tensor([0, 1, 2, 3, 4, 5, 6, 9, 8, 1], device='cuda:0')\n"
          ]
        }
      ]
    },
    {
      "cell_type": "markdown",
      "source": [
        "Summary of the metrics:"
      ],
      "metadata": {
        "id": "VBVamebb3lOD"
      }
    },
    {
      "cell_type": "code",
      "source": [
        "print(\"Attack Accracy:\",count_correct(conf_ranks)[0]/10)\n",
        "print(\"\\n\\nTop-3 Attack Accuracy:\", count_correct(conf_ranks)[1]/10)\n",
        "print(\"\\n\\nAverage Confidence\",torch.diag(conf_mat).mean().item()) # Average Confidence of correct outputs\n",
        "print(\"\\n\\nDAA:\", (sum(DAA_ranks==torch.tensor(range(10)).to(device)).item())/10)"
      ],
      "metadata": {
        "colab": {
          "base_uri": "https://localhost:8080/"
        },
        "id": "Y5jIFJKMwL3C",
        "outputId": "e787995f-75b5-4263-87fe-9bc65f2e5833"
      },
      "execution_count": 68,
      "outputs": [
        {
          "output_type": "stream",
          "name": "stdout",
          "text": [
            "Attack Accracy: 0.5\n",
            "\n",
            "\n",
            "Top-3 Attack Accuracy: 0.9\n",
            "\n",
            "\n",
            "Average Confidence 0.45378097891807556\n",
            "\n",
            "\n",
            "DAA: 0.8\n"
          ]
        }
      ]
    },
    {
      "cell_type": "code",
      "source": [],
      "metadata": {
        "id": "UtLwYQsJvEX1"
      },
      "execution_count": null,
      "outputs": []
    }
  ]
}
